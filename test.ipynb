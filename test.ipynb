{
 "cells": [
  {
   "cell_type": "code",
   "execution_count": 1,
   "id": "c7c719d3",
   "metadata": {},
   "outputs": [],
   "source": [
    "from fastapi import FastAPI, HTTPException, Depends\n",
    "from fastapi.middleware.cors import CORSMiddleware\n",
    "from pydantic import BaseModel, Field\n",
    "from typing import List, Dict, Optional\n",
    "import os\n",
    "import re\n",
    "from operator import itemgetter\n",
    "from langchain_core.output_parsers import StrOutputParser\n",
    "from langchain_core.prompts import PromptTemplate\n",
    "from langchain_core.runnables import RunnablePassthrough, RunnableLambda\n",
    "from langchain_community.utilities.sql_database import SQLDatabase\n",
    "from langchain_community.llms import LlamaCpp\n",
    "from langchain_community.tools import QuerySQLDatabaseTool\n",
    "from langchain.memory import ConversationBufferMemory\n",
    "import logging\n",
    "\n",
    "# Configure logging\n",
    "logging.basicConfig(level=logging.INFO)\n",
    "logger = logging.getLogger(__name__)"
   ]
  },
  {
   "cell_type": "code",
   "execution_count": 6,
   "id": "f5ff828a",
   "metadata": {},
   "outputs": [
    {
     "name": "stdout",
     "output_type": "stream",
     "text": [
      "mysql\n",
      "['bus_routes']\n",
      "\n",
      "CREATE TABLE bus_routes (\n",
      "\t`Route_no` INTEGER, \n",
      "\t`Week_day` VARCHAR(10), \n",
      "\t`Total_passengers` INTEGER\n",
      ")COLLATE utf8mb4_0900_ai_ci DEFAULT CHARSET=utf8mb4 ENGINE=InnoDB\n",
      "\n",
      "/*\n",
      "3 rows from bus_routes table:\n",
      "Route_no\tWeek_day\tTotal_passengers\n",
      "101\tmonday\t40\n",
      "101\ttuesday\t50\n",
      "103\twednesday\t70\n",
      "*/\n"
     ]
    }
   ],
   "source": [
    "import os\n",
    "import re\n",
    "from operator import itemgetter\n",
    "from langchain_core.output_parsers import StrOutputParser\n",
    "from langchain_core.prompts import PromptTemplate\n",
    "from langchain_core.runnables import RunnablePassthrough, RunnableLambda\n",
    "from langchain_community.utilities.sql_database import SQLDatabase\n",
    "from langchain_community.llms import LlamaCpp\n",
    "from langchain_community.tools import QuerySQLDatabaseTool\n",
    "from llama_cpp import Llama\n",
    "from dotenv import load_dotenv\n",
    "from langchain.memory import ConversationBufferMemory\n",
    "\n",
    "load_dotenv()\n",
    "\n",
    "\n",
    "# -----------------------------\n",
    "# Database Setup\n",
    "# -----------------------------\n",
    "\n",
    "sql_query = \"\"\n",
    "\n",
    "db_user = \"root\"\n",
    "db_password = \"t49hornet\"\n",
    "db_host = \"localhost\"\n",
    "db_name = \"text2sql\"\n",
    "\n",
    "db = SQLDatabase.from_uri(f\"mysql+pymysql://{db_user}:{db_password}@{db_host}/{db_name}\",include_tables=[\"bus_routes\"])\n",
    "print(db.dialect)\n",
    "print(db.get_usable_table_names())\n",
    "print(db.table_info)"
   ]
  },
  {
   "cell_type": "code",
   "execution_count": 7,
   "id": "0e21f443",
   "metadata": {},
   "outputs": [
    {
     "data": {
      "text/plain": [
       "['bus_routes']"
      ]
     },
     "execution_count": 7,
     "metadata": {},
     "output_type": "execute_result"
    }
   ],
   "source": [
    "db.get_usable_table_names()"
   ]
  },
  {
   "cell_type": "code",
   "execution_count": null,
   "id": "47a099b8",
   "metadata": {},
   "outputs": [],
   "source": []
  }
 ],
 "metadata": {
  "kernelspec": {
   "display_name": "base",
   "language": "python",
   "name": "python3"
  },
  "language_info": {
   "codemirror_mode": {
    "name": "ipython",
    "version": 3
   },
   "file_extension": ".py",
   "mimetype": "text/x-python",
   "name": "python",
   "nbconvert_exporter": "python",
   "pygments_lexer": "ipython3",
   "version": "3.12.3"
  }
 },
 "nbformat": 4,
 "nbformat_minor": 5
}
